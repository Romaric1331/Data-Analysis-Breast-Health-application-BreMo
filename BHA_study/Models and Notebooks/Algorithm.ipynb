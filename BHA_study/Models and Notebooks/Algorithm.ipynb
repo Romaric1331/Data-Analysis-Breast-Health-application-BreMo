{
  "nbformat": 4,
  "nbformat_minor": 0,
  "metadata": {
    "colab": {
      "provenance": []
    },
    "kernelspec": {
      "name": "python3",
      "display_name": "Python 3"
    },
    "language_info": {
      "name": "python"
    }
  },
  "cells": [
    {
      "cell_type": "code",
      "execution_count": null,
      "metadata": {
        "colab": {
          "base_uri": "https://localhost:8080/",
          "height": 131
        },
        "id": "30pB1ZRDXzuB",
        "outputId": "483c453c-2a8f-4762-bdee-c5cd0cc6a8af"
      },
      "outputs": [
        {
          "output_type": "error",
          "ename": "SyntaxError",
          "evalue": "ignored",
          "traceback": [
            "\u001b[0;36m  File \u001b[0;32m\"<ipython-input-26-c5532a16a751>\"\u001b[0;36m, line \u001b[0;32m16\u001b[0m\n\u001b[0;31m    return \"Immediate consultation is needed\"\u001b[0m\n\u001b[0m    ^\u001b[0m\n\u001b[0;31mSyntaxError\u001b[0m\u001b[0;31m:\u001b[0m invalid syntax\n"
          ]
        }
      ],
      "source": [
        "''' What I did here is \" I created a function as classify_breast_ symptoms\n",
        "and used a simple if statement with all the three conditions given in the return\"\n",
        "If the respective string is called it will result in mild symptoms or .....'''\n",
        "\n",
        "def classify_breast_disease_symptoms(symptoms):\n",
        "    # Mild symptoms (Good to go! You are healthy)\n",
        "    breast_score =[]\n",
        "    breast_side =\"\"\n",
        "    if (\n",
        "        'M' in symptoms or 'Sh' in symptoms or 'Sz' in symptoms or\n",
        "        'R' in symptoms or 'P' in symptoms or 'NI' in symptoms):\n",
        "      {\n",
        "          whilebreast_side == \"right\" or \"left\":\n",
        "            {\n",
        "              breast_score == 1\n",
        "              return \"Immediate consultation is needed\"\n",
        "              }\n",
        "       return \"Mild symptoms - Good to go! You are healthy\"\n",
        "       }\n",
        "    # Symptoms requiring monitoring (See you again next month)\n",
        "    if (\n",
        "        'P' in symptoms or\n",
        "\n",
        "        'W' in symptoms or\n",
        "\n",
        "        'Sh' in symptoms or'Sz' in symptoms or\n",
        "        'V' in symptoms or'D' in symptoms or'R' in symptoms or\n",
        "        'Pe' in symptoms or'Pn' in symptoms or'NI' in symptoms):\n",
        "      {\n",
        "          while breast_side == \"right\" or \"left\":\n",
        "            {\n",
        "              breast_score == 1\n",
        "              return \"Immediate consultation is needed\"\n",
        "              }\n",
        "      print \"Symptoms requiring monitoring - See you again next month\"\n",
        "       }\n",
        "    # Immediate consultation\n",
        "    if (\n",
        "        'B' in symptoms or\n",
        "        'S' in symptoms or\n",
        "        'L' in symptoms\n",
        "    ):\n",
        "        return \"Immediate consultation required\"\n",
        "\n",
        "    return \"No specific classification found\"\n",
        "\n",
        "\n",
        "# Usage with the strings\n",
        "patient_symptoms = ['B', 'S','L']\n",
        "breast =\"right\"\n",
        "classification = classify_breast_disease_symptoms(patient_symptoms, breast)\n",
        "print(classification)"
      ]
    },
    {
      "cell_type": "code",
      "source": [
        "def classify_breast_disease_symptoms(symptoms):\n",
        "    # Mild symptoms (Good to go! You are healthy)\n",
        "    breast_score = []\n",
        "    breast_side = \"\"\n",
        "    if (\n",
        "        'M' in symptoms or 'Sh' in symptoms or 'Sz' in symptoms or\n",
        "        'R' in symptoms or 'P' in symptoms or 'NI' in symptoms\n",
        "    ):\n",
        "        for symptom in symptoms:\n",
        "            if 'R' in symptom or 'L' in symptom:\n",
        "                breast_side = symptom\n",
        "                break\n",
        "\n",
        "        if breast_side == \"right\" or breast_side == \"left\":\n",
        "            breast_score.append(1)\n",
        "            return \"Immediate consultation is needed\"\n",
        "        return \"Mild symptoms - Good to go! You are healthy\"\n",
        "\n",
        "    # Symptoms requiring monitoring (See you again next month)\n",
        "    if (\n",
        "        'P' in symptoms or 'W' in symptoms or\n",
        "        'Sh' in symptoms or 'Sz' in symptoms or\n",
        "        'V' in symptoms or 'D' in symptoms or 'R' in symptoms or\n",
        "        'Pe' in symptoms or 'Pn' in symptoms or 'NI' in symptoms\n",
        "    ):\n",
        "        for symptom in symptoms:\n",
        "            if 'R' in symptom or 'L' in symptom:\n",
        "                breast_side = symptom\n",
        "                break\n",
        "\n",
        "        if breast_side == \"right\" or breast_side == \"left\":\n",
        "            breast_score.append(1)\n",
        "            return \"Immediate consultation is needed\"\n",
        "        return \"Symptoms requiring monitoring - See you again next month\"\n",
        "\n",
        "    # Immediate consultation\n",
        "    if 'B' in symptoms or 'S' in symptoms or 'L' in symptoms:\n",
        "        return \"Immediate consultation required\"\n",
        "\n",
        "    return \"No specific classification found\"\n",
        "\n",
        "\n",
        "# Usage with the strings\n",
        "patient_symptoms = ['Pe']\n",
        "classification = classify_breast_disease_symptoms(patient_symptoms)\n",
        "print(classification)"
      ],
      "metadata": {
        "colab": {
          "base_uri": "https://localhost:8080/"
        },
        "id": "BoySpcri-oJS",
        "outputId": "7bb1cd9f-78a7-4647-e4ff-1cf9865ca251"
      },
      "execution_count": null,
      "outputs": [
        {
          "output_type": "stream",
          "name": "stdout",
          "text": [
            "Symptoms requiring monitoring - See you again next month\n"
          ]
        }
      ]
    },
    {
      "cell_type": "code",
      "source": [
        "\n",
        "\n",
        "def classify_breast_disease_symptoms(symptoms, side):\n",
        "    # Mild symptoms (Good to go! You are healthy)\n",
        "    breast_score = []\n",
        "    breast_side = \"\"\n",
        "    if (\n",
        "        'M' in symptoms or 'Sh' in symptoms or 'Sz' in symptoms or\n",
        "        'R' in symptoms or 'P' in symptoms or 'NI' in symptoms\n",
        "    ):\n",
        "        for symptom in symptoms:\n",
        "            if 'R' in symptom:\n",
        "                breast_side = \"right\"\n",
        "                breast_score.append(1)\n",
        "            elif 'L' in symptom:\n",
        "                breast_side = \"left\"\n",
        "                breast_score.append(1)\n",
        "\n",
        "        if breast_side == \"right\" or breast_side == \"left\":\n",
        "            return \"Immediate consultation is needed on the \" + breast_side + \" side\"\n",
        "        return \"Mild symptoms - Good to go! You are healthy\"\n",
        "\n",
        "    # Symptoms requiring monitoring (See you again next month)\n",
        "    if (\n",
        "        'P' in symptoms or 'W' in symptoms or\n",
        "        'Sh' in symptoms or 'Sz' in symptoms or\n",
        "        'V' in symptoms or 'D' in symptoms or 'R' in symptoms or\n",
        "        'Pe' in symptoms or 'Pn' in symptoms or 'NI' in symptoms\n",
        "    ):\n",
        "        for symptom in symptoms:\n",
        "            if 'R' in symptom:\n",
        "                breast_side = \"right\"\n",
        "                breast_score.append(2)\n",
        "            elif 'L' in symptom:\n",
        "                breast_side = \"left\"\n",
        "                breast_score.append(2)\n",
        "\n",
        "        if breast_side == \"right\" or breast_side == \"left\":\n",
        "            return \"Immediate consultation is needed on the \" + breast_side + \" side\"\n",
        "        return \"Symptoms requiring monitoring - See you again next month\"\n",
        "\n",
        "    # Immediate consultation\n",
        "    if 'B' in symptoms or 'S' in symptoms or 'L' in symptoms:\n",
        "        return \"Immediate consultation required\"\n",
        "\n",
        "    return \"No specific classification found\"\n",
        "\n",
        "\n",
        "# Usage with side selection\n",
        "patient_symptoms = ['B', 'S', 'R']\n",
        "classification = classify_breast_disease_symptoms(patient_symptoms)\n",
        "print(classification)\n"
      ],
      "metadata": {
        "colab": {
          "base_uri": "https://localhost:8080/"
        },
        "id": "XdS0qcsLBcsC",
        "outputId": "09398c6f-dd46-47be-ebf5-bf307ded8e47"
      },
      "execution_count": null,
      "outputs": [
        {
          "output_type": "stream",
          "name": "stdout",
          "text": [
            "Immediate consultation is needed on the right side\n"
          ]
        }
      ]
    },
    {
      "cell_type": "code",
      "source": [
        "def classify_breast_disease_symptoms(symptoms, side = None):\n",
        "    symptom_info = {\n",
        "        'N': 'Nipple discharge - Unknown',\n",
        "        'P': 'Pain',\n",
        "        'B': 'Nipple discharge - breast_side',\n",
        "        'M': 'Nipple discharge - Milky',\n",
        "        'W': 'Nipple discharge - Watery',\n",
        "        'Sh': 'Change in shape',\n",
        "        'Sz': 'Change in size',\n",
        "        'V': 'Changes in Skin - Veiny',\n",
        "        'D': 'Changes in Skin - Dimpling',\n",
        "        'R': 'Changes in Skin - Redness',\n",
        "        'Pe': 'Lump - Pea',\n",
        "        'Pn': 'Lump - Peanut',\n",
        "        'S': 'Lump - Strawberry',\n",
        "        'L': 'Lump - Lemon',\n",
        "        'NI': 'Nipple inversion'\n",
        "    }\n",
        "\n",
        "    classification = \"\"\n",
        "    symptom_descriptions = []\n",
        "    bilateral_symptoms = ['L', 'R']\n",
        "\n",
        "    # Check if symptom is present in unilateral or bilateral symptoms\n",
        "    def unilateral(symptom):\n",
        "        return symptom in symptoms or symptom in bilateral_symptoms\n",
        "\n",
        "    # Check if symptom is present in both unilateral and bilateral symptoms\n",
        "    def bilateral(symptom):\n",
        "        return symptom in symptoms and symptom in bilateral_symptoms\n",
        "\n",
        "    # Mild symptoms\n",
        "    mild_symptoms = ['M', 'Sh', 'Sz', 'R', 'P', 'NI']\n",
        "    if any(unilateral(symptom) for symptom in mild_symptoms):\n",
        "        classification = \"Mild symptoms - Good to go! You are healthy\"\n",
        "        symptom_descriptions = [symptom_info[symptom] for symptom in mild_symptoms if unilateral(symptom)]\n",
        "\n",
        "    # Moderate symptoms\n",
        "    moderate_symptoms = ['P', 'W', 'Sh', 'Sz', 'V', 'D', 'R', 'Pe', 'Pn', 'NI']\n",
        "    if any(unilateral(symptom) for symptom in moderate_symptoms):\n",
        "        if bilateral('L') or bilateral('R'):\n",
        "            classification = \"Bilateral moderate symptoms - Consultation recommended\"\n",
        "        else:\n",
        "            classification = \"Unilateral moderate symptoms - Consultation recommended\"\n",
        "        symptom_descriptions = [symptom_info[symptom] for symptom in moderate_symptoms if unilateral(symptom)]\n",
        "\n",
        "    # Serious symptoms\n",
        "    serious_symptoms = ['B', 'S', 'L']\n",
        "    if any(unilateral(symptom) for symptom in serious_symptoms):\n",
        "        if bilateral('L') or bilateral('R'):\n",
        "            classification = \"Bilateral immediate consultation symptoms - Immediate consultation required\"\n",
        "        else:\n",
        "            classification = \"Unilateral immediate consultation symptoms - Immediate consultation required\"\n",
        "        symptom_descriptions = [symptom_info[symptom] for symptom in serious_symptoms if unilateral(symptom)]\n",
        "\n",
        "    return classification, symptom_descriptions\n",
        "'''\n",
        "patient_symptoms = ['P']\n",
        "patient_side = 'left'\n",
        "\n",
        "classification, symptom_descriptions = classify_breast_disease_symptoms(patient_symptoms, patient_side)\n",
        "print(classification)\n",
        "print(\"Symptom Descriptions:\")\n",
        "for description in symptom_descriptions:\n",
        "    print(\"-\", description)'''"
      ],
      "metadata": {
        "id": "gY9YhjExfC40",
        "colab": {
          "base_uri": "https://localhost:8080/",
          "height": 52
        },
        "outputId": "1bc47944-4c91-41e4-fafb-bc09bf15796b"
      },
      "execution_count": null,
      "outputs": [
        {
          "output_type": "execute_result",
          "data": {
            "text/plain": [
              "'\\npatient_symptoms = [\\'P\\']\\npatient_side = \\'left\\'\\n\\nclassification, symptom_descriptions = classify_breast_disease_symptoms(patient_symptoms, patient_side)\\nprint(classification)\\nprint(\"Symptom Descriptions:\")\\nfor description in symptom_descriptions:\\n    print(\"-\", description)'"
            ],
            "application/vnd.google.colaboratory.intrinsic+json": {
              "type": "string"
            }
          },
          "metadata": {},
          "execution_count": 3
        }
      ]
    },
    {
      "cell_type": "code",
      "source": [
        "def classify_breast_disease_symptoms(symptoms, breast_side = None):\n",
        "    # Mild symptoms (Good to go! You are healthy)\n",
        "    breast_score = []\n",
        "\n",
        "    if (\n",
        "        'M' in symptoms or 'Sh' in symptoms or 'Sz' in symptoms or\n",
        "        'R' in symptoms or 'P' in symptoms or 'NI' in symptoms\n",
        "    ):\n",
        "        if breast_side == \"right\" or breast_side == \"left\":\n",
        "            breast_score.append(1)\n",
        "            return \"Immediate consultation is needed\"\n",
        "\n",
        "        return \"Mild symptoms - Good to go! You are healthy\"\n",
        "\n",
        "    # Symptoms requiring monitoring (See you again next month)\n",
        "    if (\n",
        "        'P'  in symptoms or # if 1 danger pain\n",
        "        'W' in symptoms or\n",
        "        'Sh' in symptoms or # if 1 is danger change in shape\n",
        "        'Sz' in symptoms or # if 1 is danger change in size\n",
        "        'V' in symptoms or 'D' in symptoms or\n",
        "        'R' in symptoms or# if 1 is danger redness\n",
        "        'Pe' in symptoms or 'Pn' in symptoms or\n",
        "        'NI' in symptoms # if 1 is danger nipple discharge\n",
        "    ):\n",
        "        if breast_side == \"right\" or breast_side == \"left\" :\n",
        "            breast_score.append(1)\n",
        "            return \"Immediate consultation is needed (Because its on only one side)\"\n",
        "\n",
        "        return \"Symptoms requiring monitoring - See you again next month\"\n",
        "\n",
        "    # Immediate consultation\n",
        "    if 'B' in symptoms or 'S' in symptoms or 'L' in symptoms:\n",
        "        return \"Immediate consultation required\"\n",
        "\n",
        "    return \"No specific classification found\"\n",
        "\n",
        "\n",
        "# Usage with the strings\n",
        "patient_symptoms = ['']\n",
        "breast =\"\"\n",
        "classification = classify_breast_disease_symptoms(patient_symptoms, breast)\n",
        "print(classification)\n"
      ],
      "metadata": {
        "id": "ghW8Zn8qBylJ",
        "colab": {
          "base_uri": "https://localhost:8080/"
        },
        "outputId": "769c7027-d26d-4145-af35-8452b7531fcc"
      },
      "execution_count": null,
      "outputs": [
        {
          "output_type": "stream",
          "name": "stdout",
          "text": [
            "Mild symptoms - Good to go! You are healthy\n"
          ]
        }
      ]
    }
  ]
}
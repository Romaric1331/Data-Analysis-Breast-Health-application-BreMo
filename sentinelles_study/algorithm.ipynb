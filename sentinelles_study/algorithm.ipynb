{
  "nbformat": 4,
  "nbformat_minor": 0,
  "metadata": {
    "colab": {
      "provenance": []
    },
    "kernelspec": {
      "name": "python3",
      "display_name": "Python 3"
    },
    "language_info": {
      "name": "python"
    }
  },
  "cells": [
    {
      "cell_type": "code",
      "execution_count": null,
      "metadata": {
        "id": "Y_20TnZESVhu"
      },
      "outputs": [],
      "source": [
        "#Function Definition\n",
        "def classify_breast_disease_symptoms(symptoms, breast_side = None):\n",
        "    # Empty list for storing the strings of the symptoms\n",
        "    breast_score = []\n",
        "    # Mild symptoms (Good to go! You are healthy)\n",
        "    if (\n",
        "        'M' in symptoms or 'Sh' in symptoms or 'Sz' in symptoms or\n",
        "        'R' in symptoms or 'P' in symptoms or 'NI' in symptoms\n",
        "    ):\n",
        "        if breast_side == \"right\" or breast_side == \"left\":\n",
        "            breast_score.append(1)\n",
        "            return \"Immediate consultation is needed\"\n",
        "\n",
        "        return \"Mild symptoms - Good to go! You are healthy\"\n",
        "    # Symptoms requiring monitoring\n",
        "    if (\n",
        "        'P'  in symptoms or 'W' in symptoms or 'Sh' in symptoms or\n",
        "        'Sz' in symptoms or 'V' in symptoms or 'D' in symptoms or\n",
        "        'R' in symptoms or 'Pe' in symptoms or 'Pn' in symptoms or\n",
        "        'NI' in symptoms\n",
        "    ):\n",
        "        if breast_side == \"right\" or breast_side == \"left\" :\n",
        "            breast_score.append(1)\n",
        "            return \"Immediate consultation is needed (Because its on only one side)\"\n",
        "\n",
        "        return \"Symptoms requiring monitoring - See you again next month\"\n",
        "    # Immediate consultation\n",
        "    if 'B' in symptoms or 'S' in symptoms or 'L' in symptoms:\n",
        "        return \"Immediate consultation required\"\n",
        "\n",
        "    return \"No specific classification found\"\n",
        "# Usage with the strings\n",
        "patient_symptoms = ['']\n",
        "breast =\"\"\n",
        "classification = classify_breast_disease_symptoms(patient_symptoms, breast)\n",
        "print(classification)"
      ]
    }
  ]
}